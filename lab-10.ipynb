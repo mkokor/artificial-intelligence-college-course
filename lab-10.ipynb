{
  "nbformat": 4,
  "nbformat_minor": 0,
  "metadata": {
    "colab": {
      "provenance": []
    },
    "kernelspec": {
      "name": "python3",
      "display_name": "Python 3"
    },
    "language_info": {
      "name": "python"
    }
  },
  "cells": [
    {
      "cell_type": "markdown",
      "source": [
        "# **Description**\n",
        "<p align=\"justify\">\n",
        "Python scripts implements fuzzy controller system for tips. Tip amount is based on service and food quality\n",
        "</p>\n"
      ],
      "metadata": {
        "id": "VrMlD7KV1Uje"
      }
    },
    {
      "cell_type": "code",
      "source": [
        "import sys\n",
        "!{sys.executable} -m pip install -U scikit-fuzzy"
      ],
      "metadata": {
        "id": "nybzcvLs1qkl"
      },
      "execution_count": null,
      "outputs": []
    },
    {
      "cell_type": "code",
      "source": [
        "import numpy as np\n",
        "import skfuzzy as fuzz\n",
        "from skfuzzy import control as ctrl\n",
        "\n",
        "\n",
        "# DEFINING INPUT AND OUTPUT\n",
        "# INPUT: service quality (0-10), food quality (0-10)\n",
        "# OUTPUT: tip amount (0-25%)\n",
        "foodQuality = ctrl.Antecedent(np.arange(0, 11, 1), \"Food Quality\")\n",
        "serviceQuality = ctrl.Antecedent(np.arange(0, 11, 1), \"Service Quality\")\n",
        "tip = ctrl.Consequent(np.arange(0, 26, 1), \"Tip Percentage\")\n",
        "\n",
        "\n",
        "# DEFINING MEMBERSHIP FUNCTION FOR INPUT AND OUTPUT\n",
        "# INPUT : 3 - poor, average, good\n",
        "foodQuality.automf(3)\n",
        "serviceQuality.automf(3)\n",
        "\n",
        "tip[\"small\"] = fuzz.trimf(tip.universe, [0, 0, 13])\n",
        "tip[\"medium\"] = fuzz.trimf(tip.universe, [0, 13, 25])\n",
        "tip[\"big\"] = fuzz.trimf(tip.universe, [13, 25, 25])\n",
        "\n",
        "\n",
        "# DEFINING RULES\n",
        "ruleA = ctrl.Rule(foodQuality[\"poor\"] | serviceQuality[\"poor\"], tip[\"small\"])\n",
        "ruleB = ctrl.Rule(serviceQuality[\"average\"], tip[\"medium\"])\n",
        "ruleC = ctrl.Rule(serviceQuality[\"good\"] | foodQuality[\"good\"], tip[\"big\"])\n",
        "\n",
        "\n",
        "# CREATING CONTROL SYSTEM\n",
        "controlSystem = ctrl.ControlSystem([ruleA, ruleB, ruleC])\n",
        "\n",
        "\n",
        "# TURNING SYSTEM INTO SIMULATION MODE (for usage)\n",
        "systemSimulation = ctrl.ControlSystemSimulation(controlSystem)\n",
        "\n",
        "\n",
        "# TESTING\n",
        "systemSimulation.input[\"Food Quality\"] = 6.5\n",
        "systemSimulation.input[\"Service Quality\"] = 9.8\n",
        "\n",
        "systemSimulation.compute()\n",
        "tipPercentage = systemSimulation.output[\"Tip Percentage\"]\n",
        "\n",
        "print(f\"FOOD QUALITY: {6.5}\")\n",
        "print(f\"SERVICE QUALITY: {9.8}\")\n",
        "print(f\"TIP PERCENTAGE: {tipPercentage}\")"
      ],
      "metadata": {
        "id": "UQITA2ew1yH-"
      },
      "execution_count": null,
      "outputs": []
    },
    {
      "cell_type": "code",
      "source": [
        "import numpy as np\n",
        "import skfuzzy as fuzz\n",
        "from skfuzzy import control as ctrl\n",
        "\n",
        "\n",
        "# DEFINING INPUT AND OUTPUT\n",
        "foodQuality = ctrl.Antecedent(np.arange(0, 11, 1), \"Food Quality\")\n",
        "serviceQuality = ctrl.Antecedent(np.arange(0, 11, 1), \"Service Quality\")\n",
        "tipPercentage = ctrl.Consequent(np.arange(0, 50, 1), \"Tip Percentage\")\n",
        "\n",
        "\n",
        "# DEFINING MEMBERSHIP FUNCTIONS\n",
        "foodQuality[\"poor\"] = fuzz.trimf(foodQuality.universe, [0, 2, 3])\n",
        "foodQuality[\"average\"] = fuzz.trapmf(foodQuality.universe, [2, 4, 6, 8])\n",
        "foodQuality[\"good\"] = fuzz.trimf(foodQuality.universe, [7, 8, 10])\n",
        "\n",
        "serviceQuality[\"poor\"] = fuzz.trimf(serviceQuality.universe, [0, 2, 3])\n",
        "serviceQuality[\"average\"] = fuzz.trapmf(serviceQuality.universe, [2, 4, 6, 8])\n",
        "serviceQuality[\"good\"] = fuzz.trimf(serviceQuality.universe, [7, 8, 10])\n",
        "\n",
        "tipPercentage[\"small\"] = fuzz.trimf(tipPercentage.universe, [0, 0, 13])\n",
        "tipPercentage[\"medium\"] = fuzz.trimf(tipPercentage.universe, [0, 13, 25])\n",
        "tipPercentage[\"big\"] = fuzz.trimf(tipPercentage.universe, [13, 25, 25])\n",
        "\n",
        "\n",
        "# DEFINING RULES\n",
        "ruleA = ctrl.Rule(serviceQuality[\"good\"] | foodQuality[\"good\"], tipPercentage[\"big\"])\n",
        "ruleB = ctrl.Rule(serviceQuality[\"average\"], tipPercentage[\"medium\"])\n",
        "ruleC = ctrl.Rule(serviceQuality[\"poor\"] & foodQuality[\"poor\"], tipPercentage[\"small\"])\n",
        "\n",
        "\n",
        "# CREATING CONTROL SYSTEM\n",
        "system = ctrl.ControlSystem([ruleA, ruleB, ruleC])\n",
        "\n",
        "\n",
        "# TURNING CONTROL SYSTEM INTO SIMULATION MODE\n",
        "systemSimulation = ctrl.ControlSystemSimulation(system)\n",
        "\n",
        "\n",
        "# TEST\n",
        "systemSimulation.input[\"Food Quality\"] = 6.5\n",
        "systemSimulation.input[\"Service Quality\"] = 9.8\n",
        "systemSimulation.compute()\n",
        "systemSimulation.output[\"Tip Percentage\"]"
      ],
      "metadata": {
        "id": "W0XqcEjqapAx"
      },
      "execution_count": null,
      "outputs": []
    }
  ]
}